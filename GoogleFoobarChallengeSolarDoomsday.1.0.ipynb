{
 "cells": [
  {
   "cell_type": "code",
   "execution_count": 3,
   "id": "bd34f4eb",
   "metadata": {},
   "outputs": [
    {
     "name": "stdout",
     "output_type": "stream",
     "text": [
      "[9, 1, 1, 1]\n"
     ]
    }
   ],
   "source": [
    "import math\n",
    "\n",
    "def solution(area):\n",
    "    panel_areas = []\n",
    "    \n",
    "    while area > 0:\n",
    "        largest_panel = int(math.sqrt(area)) ** 2\n",
    "        panel_areas.append(largest_panel)\n",
    "        area -= largest_panel\n",
    "    \n",
    "    return panel_areas\n",
    "area = 12\n",
    "largest_squares = solution(area)\n",
    "print(largest_squares)"
   ]
  }
 ],
 "metadata": {
  "kernelspec": {
   "display_name": "Python 3 (ipykernel)",
   "language": "python",
   "name": "python3"
  },
  "language_info": {
   "codemirror_mode": {
    "name": "ipython",
    "version": 3
   },
   "file_extension": ".py",
   "mimetype": "text/x-python",
   "name": "python",
   "nbconvert_exporter": "python",
   "pygments_lexer": "ipython3",
   "version": "3.9.13"
  }
 },
 "nbformat": 4,
 "nbformat_minor": 5
}
