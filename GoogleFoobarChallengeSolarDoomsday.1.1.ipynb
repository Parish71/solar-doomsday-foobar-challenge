{
 "cells": [
  {
   "cell_type": "code",
   "execution_count": 1,
   "id": "cdb46ecb",
   "metadata": {},
   "outputs": [
    {
     "name": "stdout",
     "output_type": "stream",
     "text": [
      "Enter the area value: 15\n",
      "Largest square numbers: [9, 4, 1, 1]\n"
     ]
    }
   ],
   "source": [
    "class Solution:\n",
    "    @staticmethod\n",
    "    def maxSquare(number, start, end):\n",
    "        mid = (start + end) // 2\n",
    "        mid2 = mid * mid\n",
    "\n",
    "        if end - start == 1 or start - end == 1:\n",
    "            if (mid + 1) * (mid + 1) <= number:\n",
    "                return (mid + 1) * (mid + 1)\n",
    "            else:\n",
    "                return mid2\n",
    "        else:\n",
    "            if mid2 < number:\n",
    "                return Solution.maxSquare(number, mid, end)\n",
    "            elif mid2 > number:\n",
    "                return Solution.maxSquare(number, start, mid)\n",
    "            elif mid2 == number:\n",
    "                return mid2\n",
    "\n",
    "        return 0\n",
    "\n",
    "    @staticmethod\n",
    "    def answer(area):\n",
    "        result = []\n",
    "        while area > 0:\n",
    "            next_val = Solution.maxSquare(area, 1, 1000)\n",
    "            result.append(next_val)\n",
    "            area -= next_val\n",
    "\n",
    "        return result\n",
    "\n",
    "\n",
    "# Test code\n",
    "if __name__ == \"__main__\":\n",
    "    area_input = int(input(\"Enter the area value: \"))\n",
    "    result = Solution.answer(area_input)\n",
    "    print(\"Largest square numbers:\", result)"
   ]
  }
 ],
 "metadata": {
  "kernelspec": {
   "display_name": "Python 3 (ipykernel)",
   "language": "python",
   "name": "python3"
  },
  "language_info": {
   "codemirror_mode": {
    "name": "ipython",
    "version": 3
   },
   "file_extension": ".py",
   "mimetype": "text/x-python",
   "name": "python",
   "nbconvert_exporter": "python",
   "pygments_lexer": "ipython3",
   "version": "3.9.13"
  }
 },
 "nbformat": 4,
 "nbformat_minor": 5
}
