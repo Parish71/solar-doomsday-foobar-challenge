{
 "cells": [
  {
   "cell_type": "code",
   "execution_count": 4,
   "id": "a7e98973",
   "metadata": {},
   "outputs": [
    {
     "name": "stdout",
     "output_type": "stream",
     "text": [
      "Area: [15129, 169, 25, 1]\n"
     ]
    }
   ],
   "source": [
    "import math\n",
    "\n",
    "def generate_panels(total_area):\n",
    "    panel_sizes = []\n",
    "\n",
    "    while total_area > 0:\n",
    "        largest_panel = int(math.sqrt(total_area)) ** 2\n",
    "        panel_sizes.append(largest_panel)\n",
    "        total_area -= largest_panel\n",
    "\n",
    "    return panel_sizes\n",
    "\n",
    "# Test code\n",
    "total_area = 15324\n",
    "panels = generate_panels(total_area)\n",
    "print(\"Area:\", panels)"
   ]
  }
 ],
 "metadata": {
  "kernelspec": {
   "display_name": "Python 3 (ipykernel)",
   "language": "python",
   "name": "python3"
  },
  "language_info": {
   "codemirror_mode": {
    "name": "ipython",
    "version": 3
   },
   "file_extension": ".py",
   "mimetype": "text/x-python",
   "name": "python",
   "nbconvert_exporter": "python",
   "pygments_lexer": "ipython3",
   "version": "3.9.13"
  }
 },
 "nbformat": 4,
 "nbformat_minor": 5
}
