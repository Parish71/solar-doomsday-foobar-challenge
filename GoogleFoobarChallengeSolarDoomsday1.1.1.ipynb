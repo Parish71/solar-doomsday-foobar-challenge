{
 "cells": [
  {
   "cell_type": "code",
   "execution_count": 9,
   "id": "edc8f0d5",
   "metadata": {},
   "outputs": [
    {
     "ename": "IndentationError",
     "evalue": "unexpected indent (1269202565.py, line 8)",
     "output_type": "error",
     "traceback": [
      "\u001b[1;36m  File \u001b[1;32m\"C:\\Users\\rafae\\AppData\\Local\\Temp\\ipykernel_18904\\1269202565.py\"\u001b[1;36m, line \u001b[1;32m8\u001b[0m\n\u001b[1;33m    while end - start > 1:\u001b[0m\n\u001b[1;37m    ^\u001b[0m\n\u001b[1;31mIndentationError\u001b[0m\u001b[1;31m:\u001b[0m unexpected indent\n"
     ]
    }
   ],
   "source": [
    " \n",
    " \n",
    "    import math\n",
    "   \n",
    "    class Answer:\n",
    "        def maxSquare(number, start, end):\n",
    "            mid = (start + end) // 2\n",
    "            mid2 = mid * mid\n",
    "            \n",
    "               while end - start > 1:\n",
    "                if mid2 < number:\n",
    "                       start = mid\n",
    "                else:\n",
    "                end = mid\n",
    "            mid = (start + end) // 2\n",
    "            mid2 = mid * mid\n",
    "        \n",
    "            return mid2 if (mid + 1) * (mid + 1) > number else (mid + 1)\n",
    "        \n",
    "        def solution(area):\n",
    "            result = []\n",
    "            while area > 0:\n",
    "                next_val + Answer.maxSquare(area, 1 , int(math.sqrt(area) +1))\n",
    "                result.append(next_val)\n",
    "                area -= next_val\n",
    "            \n",
    "            return result\n",
    "        "
   ]
  },
  {
   "cell_type": "code",
   "execution_count": null,
   "id": "eb48df97",
   "metadata": {},
   "outputs": [],
   "source": []
  }
 ],
 "metadata": {
  "kernelspec": {
   "display_name": "Python 3 (ipykernel)",
   "language": "python",
   "name": "python3"
  },
  "language_info": {
   "codemirror_mode": {
    "name": "ipython",
    "version": 3
   },
   "file_extension": ".py",
   "mimetype": "text/x-python",
   "name": "python",
   "nbconvert_exporter": "python",
   "pygments_lexer": "ipython3",
   "version": "3.9.13"
  }
 },
 "nbformat": 4,
 "nbformat_minor": 5
}
