{
 "cells": [
  {
   "cell_type": "code",
   "execution_count": 8,
   "id": "202166b1",
   "metadata": {},
   "outputs": [],
   "source": [
    "import math"
   ]
  },
  {
   "cell_type": "code",
   "execution_count": 3,
   "id": "ad63c294",
   "metadata": {},
   "outputs": [],
   "source": [
    "class Answer:\n",
    "    @staticmethod\n",
    "    def maxSquare(number, start, end):\n",
    "        mid = (start + end) // 2\n",
    "        mid2 = mid * mid\n",
    "\n",
    "        while end - start > 1:\n",
    "            if mid2 < number:\n",
    "                start = mid\n",
    "            else:\n",
    "                end = mid\n",
    "            mid = (start + end) // 2\n",
    "            mid2 = mid * mid\n",
    "\n",
    "        return mid2 if (mid + 1) * (mid + 1) > number else (mid + 1) * (mid + 1)\n"
   ]
  },
  {
   "cell_type": "code",
   "execution_count": 7,
   "id": "de0ba575",
   "metadata": {},
   "outputs": [],
   "source": [
    "    @staticmethod\n",
    "    def answer(area):\n",
    "        result = []\n",
    "        while area > 0:\n",
    "            next_val = Answer.maxSquare(area, 1, int(math.sqrt(area) + 1))\n",
    "            result.append(next_val)\n",
    "            area -= next_val\n",
    "\n",
    "        return result"
   ]
  }
 ],
 "metadata": {
  "kernelspec": {
   "display_name": "Python 3 (ipykernel)",
   "language": "python",
   "name": "python3"
  },
  "language_info": {
   "codemirror_mode": {
    "name": "ipython",
    "version": 3
   },
   "file_extension": ".py",
   "mimetype": "text/x-python",
   "name": "python",
   "nbconvert_exporter": "python",
   "pygments_lexer": "ipython3",
   "version": "3.9.13"
  }
 },
 "nbformat": 4,
 "nbformat_minor": 5
}
